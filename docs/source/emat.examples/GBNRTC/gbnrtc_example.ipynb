{
 "cells": [
  {
   "cell_type": "raw",
   "metadata": {
    "raw_mimetype": "text/restructuredtext"
   },
   "source": [
    ".. py:currentmodule:: emat"
   ]
  },
  {
   "cell_type": "markdown",
   "metadata": {},
   "source": [
    "# GBNRTC Example Model"
   ]
  },
  {
   "cell_type": "code",
   "execution_count": null,
   "metadata": {},
   "outputs": [],
   "source": [
    "import emat\n",
    "emat.require_version('0.5.2')"
   ]
  },
  {
   "cell_type": "code",
   "execution_count": null,
   "metadata": {},
   "outputs": [],
   "source": [
    "import pandas, numpy, os"
   ]
  },
  {
   "cell_type": "raw",
   "metadata": {
    "raw_mimetype": "text/restructuredtext"
   },
   "source": [
    "The model scope is defined in a YAML file.  For this GBNRTC example, the scope file is named \n",
    ":ref:`gbnrtc_scope.yaml <gbnrtc_scope_file>`."
   ]
  },
  {
   "cell_type": "code",
   "execution_count": null,
   "metadata": {},
   "outputs": [],
   "source": [
    "scope = emat.Scope('gbnrtc_scope.yaml')"
   ]
  },
  {
   "cell_type": "code",
   "execution_count": null,
   "metadata": {},
   "outputs": [],
   "source": [
    "db = emat.SQLiteDB()"
   ]
  },
  {
   "cell_type": "code",
   "execution_count": null,
   "metadata": {},
   "outputs": [],
   "source": [
    "scope.store_scope(db)"
   ]
  },
  {
   "cell_type": "markdown",
   "metadata": {},
   "source": [
    "The basic operation of the GBNRTC model can be controlled by EMAT through a custom developed \n",
    "class, which defines the input and output \"hooks\" that are consistent with the defined \n",
    "scope file.  The `GBNRTCModel` class is able to call to TransCAD, setup the input parameters\n",
    "(exogenous uncertainties, policy levers, and constants defined in the scope), exceute the \n",
    "model, and retrieve the performance measure results.  "
   ]
  },
  {
   "cell_type": "code",
   "execution_count": null,
   "metadata": {},
   "outputs": [],
   "source": [
    "from emat.model import GBNRTCModel"
   ]
  },
  {
   "cell_type": "code",
   "execution_count": null,
   "metadata": {},
   "outputs": [],
   "source": [
    "g = GBNRTCModel(\n",
    "    configuration='gbnrtc_model_config.yaml',\n",
    "    scope=scope,\n",
    "    db=db,\n",
    ")\n",
    "g"
   ]
  },
  {
   "cell_type": "markdown",
   "metadata": {},
   "source": [
    "The GBNRTC model takes a couple of hours for each run, and runs in TransCAD, which \n",
    "is a proprietary software package that is not included with the EMAT distribution.\n",
    "However, for demonstration purposes, the definition and results of a particular set \n",
    "of experiments is included in the file `buffalo.csv`.  We can use \n",
    "the `write_experiment_all` method to pre-load these results into the database."
   ]
  },
  {
   "cell_type": "code",
   "execution_count": null,
   "metadata": {},
   "outputs": [],
   "source": [
    "lhs = pandas.read_csv('buffalo.csv')"
   ]
  },
  {
   "cell_type": "code",
   "execution_count": null,
   "metadata": {},
   "outputs": [],
   "source": [
    "lhs.info()"
   ]
  },
  {
   "cell_type": "code",
   "execution_count": null,
   "metadata": {},
   "outputs": [],
   "source": [
    "db.write_experiment_all(\n",
    "    'GBNRTC', \n",
    "    'lhs', \n",
    "    emat.SOURCE_IS_CORE_MODEL, \n",
    "    lhs,\n",
    ")"
   ]
  },
  {
   "cell_type": "raw",
   "metadata": {
    "raw_mimetype": "text/restructuredtext"
   },
   "source": [
    "We can check that the pre-loaded data includes the results of the experiments\n",
    "by checking the number of rows in the :meth:`read_experiments <model.core_model.AbstractCoreModel.read_experiments>` \n",
    "DataFrame, both in total and when only loading pending experiments (those without stored performance\n",
    "meaures):"
   ]
  },
  {
   "cell_type": "code",
   "execution_count": null,
   "metadata": {},
   "outputs": [],
   "source": [
    "len(g.read_experiments('lhs'))"
   ]
  },
  {
   "cell_type": "code",
   "execution_count": null,
   "metadata": {},
   "outputs": [],
   "source": [
    "len(g.read_experiments('lhs', only_pending=True))"
   ]
  },
  {
   "cell_type": "markdown",
   "metadata": {},
   "source": [
    "The example data contains a large variety of output performance measures, as \n",
    "TransCAD models can potentially output a lot of data."
   ]
  },
  {
   "cell_type": "code",
   "execution_count": null,
   "metadata": {},
   "outputs": [],
   "source": [
    "g.scope.get_measure_names()"
   ]
  },
  {
   "cell_type": "markdown",
   "metadata": {},
   "source": [
    "The high level scope\n",
    "definition is designed to capture all of this data for later analysis, but\n",
    "in this demonstration we will only evaluate a few of these performance measures.\n",
    "In part, this is because creating meta-models for each performance measure is \n",
    "relatively inexpensive (computationally speaking) but not free -- it can take \n",
    "a few seconds to create the meta-model and it is not needed here if we are not \n",
    "interested in all these results for this analysis.\n",
    "\n",
    "Creating a meta-model for analysis of an existing model with a completed \n",
    "design of experiments can be done using the `create_metamodel_from_design` \n",
    "method. To create a meta-model on a more limited scope, we can use the \n",
    "`include_measures` argument to list out a subset of measures that will be\n",
    "included in this metamodel."
   ]
  },
  {
   "cell_type": "code",
   "execution_count": null,
   "metadata": {},
   "outputs": [],
   "source": [
    "mm = g.create_metamodel_from_design(\n",
    "    'lhs',\n",
    "    include_measures=[\n",
    "        'Region-wide VMT', \n",
    "        'AM Trip Time (minutes)',\n",
    "        'Downtown to Airport Travel Time',\n",
    "        'Total Transit Boardings',\n",
    "        'Peak Transit Share', \n",
    "        'Peak NonMotorized Share',\n",
    "        'Corridor Kensington Daily VMT',\n",
    "        'Corridor 190 Daily VMT',\n",
    "        'Corridor 33_west Daily VMT',\n",
    "        'Corridor I90_south Daily VMT',\n",
    "    ],\n",
    "    suppress_converge_warnings=True,\n",
    ")\n",
    "mm"
   ]
  },
  {
   "cell_type": "markdown",
   "metadata": {},
   "source": [
    "You might notice that the class of the meta-model is no longer a `GBNRTCModel`\n",
    "but instead now it is a `PythonCoreModel`.  This is because at its heart, the\n",
    "meta-model is a Python function that wraps the gaussian process regression that\n",
    "has been fit to the available experimental data.  Also, although the scope still\n",
    "has 46 measures, only 10 are active in the actual meta-model:"
   ]
  },
  {
   "cell_type": "code",
   "execution_count": null,
   "metadata": {},
   "outputs": [],
   "source": [
    "mm.function"
   ]
  },
  {
   "cell_type": "code",
   "execution_count": null,
   "metadata": {},
   "outputs": [],
   "source": [
    "callable(mm.function)"
   ]
  },
  {
   "cell_type": "raw",
   "metadata": {
    "raw_mimetype": "text/restructuredtext"
   },
   "source": [
    "To access this regression directly, we can use the :meth:`regression <emat.MetaModel.regression>` attribute \n",
    "of the :class:`MetaModel <emat.MetaModel>`."
   ]
  },
  {
   "cell_type": "code",
   "execution_count": null,
   "metadata": {},
   "outputs": [],
   "source": [
    "mm.function.regression"
   ]
  },
  {
   "cell_type": "code",
   "execution_count": null,
   "metadata": {},
   "outputs": [],
   "source": [
    "mm.function.regression.lr.r2"
   ]
  },
  {
   "cell_type": "code",
   "execution_count": null,
   "metadata": {},
   "outputs": [],
   "source": [
    "mm.function.regression.lr.coefficients_summary()"
   ]
  },
  {
   "cell_type": "raw",
   "metadata": {
    "raw_mimetype": "text/restructuredtext"
   },
   "source": [
    "We can also generate cross-validation scores for the :class:`MetaModel <emat.MetaModel>` to verify that the\n",
    "meta-model is performing well."
   ]
  },
  {
   "cell_type": "code",
   "execution_count": null,
   "metadata": {},
   "outputs": [],
   "source": [
    "mm.function.cross_val_scores()"
   ]
  },
  {
   "cell_type": "markdown",
   "metadata": {},
   "source": [
    "To use the metamodel for exploratory analysis, we can design and run a large\n",
    "number of experiments."
   ]
  },
  {
   "cell_type": "code",
   "execution_count": null,
   "metadata": {},
   "outputs": [],
   "source": [
    "design = mm.design_experiments(n_samples=10000, sampler='lhs')"
   ]
  },
  {
   "cell_type": "markdown",
   "metadata": {},
   "source": [
    "The meta-model evaluates pretty quickly, but not instantaneously.  To speed up the \n",
    "evaluation for this large number of experiments, we can parallelize the execution\n",
    "by using `async_experiments`."
   ]
  },
  {
   "cell_type": "code",
   "execution_count": null,
   "metadata": {},
   "outputs": [],
   "source": [
    "result = await mm.async_experiments(design, max_n_workers=8).final_results()"
   ]
  },
  {
   "cell_type": "markdown",
   "metadata": {},
   "source": [
    "If we inspect the results, we see that among the performance measures, only the \n",
    "active measures have non-null computed values:"
   ]
  },
  {
   "cell_type": "code",
   "execution_count": null,
   "metadata": {},
   "outputs": [],
   "source": [
    "result.info()"
   ]
  },
  {
   "cell_type": "markdown",
   "metadata": {},
   "source": [
    "The results of these meta-model experiments can be used for visualization and\n",
    "other exploratory modeling applications."
   ]
  },
  {
   "cell_type": "code",
   "execution_count": null,
   "metadata": {},
   "outputs": [],
   "source": [
    "from emat.viz import scatter_graphs\n",
    "scatter_graphs('Downtown to Airport Travel Time', result, scope=mm.scope, render='png')"
   ]
  }
 ],
 "metadata": {
  "kernelspec": {
   "display_name": "Python 3",
   "language": "python",
   "name": "python3"
  },
  "language_info": {
   "codemirror_mode": {
    "name": "ipython",
    "version": 3
   },
   "file_extension": ".py",
   "mimetype": "text/x-python",
   "name": "python",
   "nbconvert_exporter": "python",
   "pygments_lexer": "ipython3",
   "version": "3.8.6"
  },
  "toc": {
   "base_numbering": 1,
   "nav_menu": {},
   "number_sections": true,
   "sideBar": true,
   "skip_h1_title": false,
   "title_cell": "Table of Contents",
   "title_sidebar": "Contents",
   "toc_cell": false,
   "toc_position": {},
   "toc_section_display": true,
   "toc_window_display": false
  }
 },
 "nbformat": 4,
 "nbformat_minor": 2
}
